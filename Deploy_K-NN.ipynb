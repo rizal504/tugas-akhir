{
 "cells": [
  {
   "cell_type": "markdown",
   "id": "06e7de78",
   "metadata": {},
   "source": [
    "## Tugas Akhir Data Mining \n",
    "## \"Mengklasifikasi Data Penipuan Transaksi Menggunakan Kartu Kredit Dengan Metode Naive Bayes, K-NN,  dan Desision Tree\""
   ]
  },
  {
   "cell_type": "markdown",
   "id": "238b4c2f",
   "metadata": {},
   "source": [
    "## Perkenalan\n",
    "\n",
    "Nama : Syaiful Rizal Sidiq\n",
    "\n",
    "NIM : A11.2021.13849\n",
    "\n",
    "Kelas : A11.4404"
   ]
  },
  {
   "cell_type": "markdown",
   "id": "ac3f80e5",
   "metadata": {},
   "source": [
    "## Abstraksi\n",
    "\n",
    "Penipuan dalam transaksi kartu kredit merupakan masalah serius yang perlu ditangani. Masyarakat yang semakin banyak menggunakan kartu kredit membuat tingkat penipuan transaksi kartu kredit semakin meningkat. Experimen ini  menggunakan credit  card  fraud  dataset yang berasal dari salah satu instansi, terdiri  dari 999.999 ribu  data  yang  didapatkan  dari  Kaggle. \n",
    "\n",
    "Melihat itu tujuan utama dari dataset ini adalah unutk mengklasifikasikan apakah akan terjadi penipuan terhadap suatu transaksi menggunakan kartu credit berikutnya berdasarkan data transaksi kartu kredit sebelumnya. Untuk variabel targetny adlah fraud atau \"penipuan\" yang menunujukkan apakah akan transaksi tersbut penipuan atau tidak. selain itu dataset ini juga berisi beberapa variabel input seperti Jarak dari rumah ke lokasi transaksi, Jarak dari transaksi terakhir yang terjadi, Rasio antara harga pembelian dengan harga pembelian median, Apakah transaksi dilakukan oleh retailer yang sama, Apakah transaksi dilakukan melalui chip pada kartu kredit, Apakah transaksi dilakukan dengan menggunakan nomor PIN, dan Apakah transaksi dilakukan secara online.\n",
    "\n",
    "\n",
    "beberapa eksperimen untuk analasis dan klasifikasi yang dapat dilakukan dengan dataset credit  card  fraud adalah :\n",
    "\n",
    "    1. Klasifikasi apakah transaksi akan terindentifikasi transaksi penipuan atau tidak\n",
    "    2. \n",
    "\n",
    "Dataset credit  card  fraud penting karena dapat membantu dalam mengklasifikasi tranasaksi kartu credit kedepannya dan membantu perusahaan penerbit kartu kredit dapat membangun model klasifikasi yang akurat, sehingga harapanya dapat melawan penipuan, melindungi pemegang kartu, dan meminimalkan kerugian finansial. \n",
    "\n",
    "\n",
    "## Objektif\n",
    "Final Project 2 ini dibuat guna mengevaluasi konsep Logistic Regression dan SVM sebagai berikut:\n",
    "\n",
    "● Mampu memahami konsep Classification dengan Naive Bayes, K-NN, dan Decision Tree\n",
    "\n",
    "● Mampu mempersiapkan data untuk digunakan dalam model Naive Bayes, K-NN, dan Decision Tree\n",
    "\n",
    "● Mampu mengimplementasikan Naive Bayes, K-NN, dan Decision Tree untuk membuat prediksi\n"
   ]
  },
  {
   "cell_type": "markdown",
   "id": "646c6802",
   "metadata": {},
   "source": [
    "## Import Library "
   ]
  },
  {
   "cell_type": "code",
   "execution_count": 1,
   "id": "ba1d4359",
   "metadata": {},
   "outputs": [],
   "source": [
    "#untuk dataframe\n",
    "import pandas as pd\n",
    "\n",
    "#untuk visualisasi data\n",
    "import matplotlib.pyplot as plt\n",
    "import seaborn as sns\n",
    "\n",
    "#modeling\n",
    "from sklearn.model_selection import train_test_split\n",
    "from sklearn.naive_bayes import GaussianNB\n",
    "from sklearn.linear_model import LogisticRegression\n",
    "from sklearn.neighbors import KNeighborsClassifier\n",
    "from sklearn.model_selection import train_test_split\n",
    "from sklearn.metrics import classification_report, confusion_matrix\n",
    "from sklearn.metrics import accuracy_score, classification_report, confusion_matrix"
   ]
  },
  {
   "cell_type": "markdown",
   "id": "8bf7450e",
   "metadata": {},
   "source": [
    "## Data Loading\n",
    "### Memanggil Data set"
   ]
  },
  {
   "cell_type": "code",
   "execution_count": 2,
   "id": "4f28589e",
   "metadata": {},
   "outputs": [
    {
     "data": {
      "text/html": [
       "<div>\n",
       "<style scoped>\n",
       "    .dataframe tbody tr th:only-of-type {\n",
       "        vertical-align: middle;\n",
       "    }\n",
       "\n",
       "    .dataframe tbody tr th {\n",
       "        vertical-align: top;\n",
       "    }\n",
       "\n",
       "    .dataframe thead th {\n",
       "        text-align: right;\n",
       "    }\n",
       "</style>\n",
       "<table border=\"1\" class=\"dataframe\">\n",
       "  <thead>\n",
       "    <tr style=\"text-align: right;\">\n",
       "      <th></th>\n",
       "      <th>distance_from_home</th>\n",
       "      <th>distance_from_last_transaction</th>\n",
       "      <th>ratio_to_median_purchase_price</th>\n",
       "      <th>repeat_retailer</th>\n",
       "      <th>used_chip</th>\n",
       "      <th>used_pin_number</th>\n",
       "      <th>online_order</th>\n",
       "      <th>fraud</th>\n",
       "    </tr>\n",
       "  </thead>\n",
       "  <tbody>\n",
       "    <tr>\n",
       "      <th>0</th>\n",
       "      <td>57.877857</td>\n",
       "      <td>0.311140</td>\n",
       "      <td>1.945940</td>\n",
       "      <td>1.0</td>\n",
       "      <td>1.0</td>\n",
       "      <td>0.0</td>\n",
       "      <td>0.0</td>\n",
       "      <td>0.0</td>\n",
       "    </tr>\n",
       "    <tr>\n",
       "      <th>1</th>\n",
       "      <td>10.829943</td>\n",
       "      <td>0.175592</td>\n",
       "      <td>1.294219</td>\n",
       "      <td>1.0</td>\n",
       "      <td>0.0</td>\n",
       "      <td>0.0</td>\n",
       "      <td>0.0</td>\n",
       "      <td>0.0</td>\n",
       "    </tr>\n",
       "    <tr>\n",
       "      <th>2</th>\n",
       "      <td>5.091079</td>\n",
       "      <td>0.805153</td>\n",
       "      <td>0.427715</td>\n",
       "      <td>1.0</td>\n",
       "      <td>0.0</td>\n",
       "      <td>0.0</td>\n",
       "      <td>1.0</td>\n",
       "      <td>0.0</td>\n",
       "    </tr>\n",
       "    <tr>\n",
       "      <th>3</th>\n",
       "      <td>2.247564</td>\n",
       "      <td>5.600044</td>\n",
       "      <td>0.362663</td>\n",
       "      <td>1.0</td>\n",
       "      <td>1.0</td>\n",
       "      <td>0.0</td>\n",
       "      <td>1.0</td>\n",
       "      <td>0.0</td>\n",
       "    </tr>\n",
       "    <tr>\n",
       "      <th>4</th>\n",
       "      <td>44.190936</td>\n",
       "      <td>0.566486</td>\n",
       "      <td>2.222767</td>\n",
       "      <td>1.0</td>\n",
       "      <td>1.0</td>\n",
       "      <td>0.0</td>\n",
       "      <td>1.0</td>\n",
       "      <td>0.0</td>\n",
       "    </tr>\n",
       "  </tbody>\n",
       "</table>\n",
       "</div>"
      ],
      "text/plain": [
       "   distance_from_home  distance_from_last_transaction  \\\n",
       "0           57.877857                        0.311140   \n",
       "1           10.829943                        0.175592   \n",
       "2            5.091079                        0.805153   \n",
       "3            2.247564                        5.600044   \n",
       "4           44.190936                        0.566486   \n",
       "\n",
       "   ratio_to_median_purchase_price  repeat_retailer  used_chip  \\\n",
       "0                        1.945940              1.0        1.0   \n",
       "1                        1.294219              1.0        0.0   \n",
       "2                        0.427715              1.0        0.0   \n",
       "3                        0.362663              1.0        1.0   \n",
       "4                        2.222767              1.0        1.0   \n",
       "\n",
       "   used_pin_number  online_order  fraud  \n",
       "0              0.0           0.0    0.0  \n",
       "1              0.0           0.0    0.0  \n",
       "2              0.0           1.0    0.0  \n",
       "3              0.0           1.0    0.0  \n",
       "4              0.0           1.0    0.0  "
      ]
     },
     "execution_count": 2,
     "metadata": {},
     "output_type": "execute_result"
    }
   ],
   "source": [
    "# Import dan Membaca dataset\n",
    "df = pd.read_csv(\"card_transdata.csv\")  \n",
    "\n",
    "#Menampilkan dataset 5 teratas\n",
    "df.head(5)"
   ]
  },
  {
   "cell_type": "markdown",
   "id": "830bc8e4",
   "metadata": {
    "scrolled": true
   },
   "source": [
    "## Melihat ukuran data(baris, kolom)"
   ]
  },
  {
   "cell_type": "code",
   "execution_count": 3,
   "id": "d454ae88",
   "metadata": {},
   "outputs": [
    {
     "data": {
      "text/plain": [
       "(1000000, 8)"
      ]
     },
     "execution_count": 3,
     "metadata": {},
     "output_type": "execute_result"
    }
   ],
   "source": [
    "df.shape"
   ]
  },
  {
   "cell_type": "markdown",
   "id": "b4122aa9",
   "metadata": {},
   "source": [
    "## Pengecekan Nama Kolom"
   ]
  },
  {
   "cell_type": "code",
   "execution_count": 4,
   "id": "a43fbe2b",
   "metadata": {},
   "outputs": [
    {
     "data": {
      "text/plain": [
       "array(['distance_from_home', 'distance_from_last_transaction',\n",
       "       'ratio_to_median_purchase_price', 'repeat_retailer', 'used_chip',\n",
       "       'used_pin_number', 'online_order', 'fraud'], dtype=object)"
      ]
     },
     "execution_count": 4,
     "metadata": {},
     "output_type": "execute_result"
    }
   ],
   "source": [
    "df.columns.values"
   ]
  },
  {
   "cell_type": "markdown",
   "id": "f3f3b86f",
   "metadata": {},
   "source": [
    "## Penjelasan Tiap kolom\n",
    "\n",
    "1. distance_from_home: Jarak dari rumah ke lokasi transaksi.\n",
    "2. distance_from_last_transaction: Jarak dari transaksi terakhir yang terjadi.\n",
    "3. ratio_to_median_purchase_price: Rasio antara harga pembelian dengan harga pembelian median.\n",
    "4. repeat_retailer: Apakah transaksi dilakukan oleh retailer yang sama.\n",
    "5. used_chip: Apakah transaksi dilakukan melalui chip pada kartu kredit.\n",
    "6. used_pin_number: Apakah transaksi dilakukan dengan menggunakan nomor PIN.\n",
    "7. online_order: Apakah transaksi dilakukan secara online.\n",
    "8. fraud: Apakah transaksi tersebut merupakan penipuan."
   ]
  },
  {
   "cell_type": "markdown",
   "id": "31c73372",
   "metadata": {},
   "source": [
    "## Tipe Data"
   ]
  },
  {
   "cell_type": "code",
   "execution_count": 5,
   "id": "b6f4cd08",
   "metadata": {},
   "outputs": [
    {
     "name": "stdout",
     "output_type": "stream",
     "text": [
      "<class 'pandas.core.frame.DataFrame'>\n",
      "RangeIndex: 1000000 entries, 0 to 999999\n",
      "Data columns (total 8 columns):\n",
      " #   Column                          Non-Null Count    Dtype  \n",
      "---  ------                          --------------    -----  \n",
      " 0   distance_from_home              1000000 non-null  float64\n",
      " 1   distance_from_last_transaction  1000000 non-null  float64\n",
      " 2   ratio_to_median_purchase_price  1000000 non-null  float64\n",
      " 3   repeat_retailer                 1000000 non-null  float64\n",
      " 4   used_chip                       1000000 non-null  float64\n",
      " 5   used_pin_number                 1000000 non-null  float64\n",
      " 6   online_order                    1000000 non-null  float64\n",
      " 7   fraud                           1000000 non-null  float64\n",
      "dtypes: float64(8)\n",
      "memory usage: 61.0 MB\n"
     ]
    }
   ],
   "source": [
    "df.info()"
   ]
  },
  {
   "cell_type": "markdown",
   "id": "2b7c2a66",
   "metadata": {},
   "source": [
    "## Deskriptif Statistik"
   ]
  },
  {
   "cell_type": "code",
   "execution_count": 6,
   "id": "95d2db06",
   "metadata": {},
   "outputs": [
    {
     "data": {
      "text/html": [
       "<div>\n",
       "<style scoped>\n",
       "    .dataframe tbody tr th:only-of-type {\n",
       "        vertical-align: middle;\n",
       "    }\n",
       "\n",
       "    .dataframe tbody tr th {\n",
       "        vertical-align: top;\n",
       "    }\n",
       "\n",
       "    .dataframe thead th {\n",
       "        text-align: right;\n",
       "    }\n",
       "</style>\n",
       "<table border=\"1\" class=\"dataframe\">\n",
       "  <thead>\n",
       "    <tr style=\"text-align: right;\">\n",
       "      <th></th>\n",
       "      <th>distance_from_home</th>\n",
       "      <th>distance_from_last_transaction</th>\n",
       "      <th>ratio_to_median_purchase_price</th>\n",
       "      <th>repeat_retailer</th>\n",
       "      <th>used_chip</th>\n",
       "      <th>used_pin_number</th>\n",
       "      <th>online_order</th>\n",
       "      <th>fraud</th>\n",
       "    </tr>\n",
       "  </thead>\n",
       "  <tbody>\n",
       "    <tr>\n",
       "      <th>count</th>\n",
       "      <td>1000000.000000</td>\n",
       "      <td>1000000.000000</td>\n",
       "      <td>1000000.000000</td>\n",
       "      <td>1000000.000000</td>\n",
       "      <td>1000000.000000</td>\n",
       "      <td>1000000.000000</td>\n",
       "      <td>1000000.000000</td>\n",
       "      <td>1000000.000000</td>\n",
       "    </tr>\n",
       "    <tr>\n",
       "      <th>mean</th>\n",
       "      <td>26.628792</td>\n",
       "      <td>5.036519</td>\n",
       "      <td>1.824182</td>\n",
       "      <td>0.881536</td>\n",
       "      <td>0.350399</td>\n",
       "      <td>0.100608</td>\n",
       "      <td>0.650552</td>\n",
       "      <td>0.087403</td>\n",
       "    </tr>\n",
       "    <tr>\n",
       "      <th>std</th>\n",
       "      <td>65.390784</td>\n",
       "      <td>25.843093</td>\n",
       "      <td>2.799589</td>\n",
       "      <td>0.323157</td>\n",
       "      <td>0.477095</td>\n",
       "      <td>0.300809</td>\n",
       "      <td>0.476796</td>\n",
       "      <td>0.282425</td>\n",
       "    </tr>\n",
       "    <tr>\n",
       "      <th>min</th>\n",
       "      <td>0.004874</td>\n",
       "      <td>0.000118</td>\n",
       "      <td>0.004399</td>\n",
       "      <td>0.000000</td>\n",
       "      <td>0.000000</td>\n",
       "      <td>0.000000</td>\n",
       "      <td>0.000000</td>\n",
       "      <td>0.000000</td>\n",
       "    </tr>\n",
       "    <tr>\n",
       "      <th>25%</th>\n",
       "      <td>3.878008</td>\n",
       "      <td>0.296671</td>\n",
       "      <td>0.475673</td>\n",
       "      <td>1.000000</td>\n",
       "      <td>0.000000</td>\n",
       "      <td>0.000000</td>\n",
       "      <td>0.000000</td>\n",
       "      <td>0.000000</td>\n",
       "    </tr>\n",
       "    <tr>\n",
       "      <th>50%</th>\n",
       "      <td>9.967760</td>\n",
       "      <td>0.998650</td>\n",
       "      <td>0.997717</td>\n",
       "      <td>1.000000</td>\n",
       "      <td>0.000000</td>\n",
       "      <td>0.000000</td>\n",
       "      <td>1.000000</td>\n",
       "      <td>0.000000</td>\n",
       "    </tr>\n",
       "    <tr>\n",
       "      <th>75%</th>\n",
       "      <td>25.743985</td>\n",
       "      <td>3.355748</td>\n",
       "      <td>2.096370</td>\n",
       "      <td>1.000000</td>\n",
       "      <td>1.000000</td>\n",
       "      <td>0.000000</td>\n",
       "      <td>1.000000</td>\n",
       "      <td>0.000000</td>\n",
       "    </tr>\n",
       "    <tr>\n",
       "      <th>max</th>\n",
       "      <td>10632.723672</td>\n",
       "      <td>11851.104565</td>\n",
       "      <td>267.802942</td>\n",
       "      <td>1.000000</td>\n",
       "      <td>1.000000</td>\n",
       "      <td>1.000000</td>\n",
       "      <td>1.000000</td>\n",
       "      <td>1.000000</td>\n",
       "    </tr>\n",
       "  </tbody>\n",
       "</table>\n",
       "</div>"
      ],
      "text/plain": [
       "       distance_from_home  distance_from_last_transaction  \\\n",
       "count      1000000.000000                  1000000.000000   \n",
       "mean            26.628792                        5.036519   \n",
       "std             65.390784                       25.843093   \n",
       "min              0.004874                        0.000118   \n",
       "25%              3.878008                        0.296671   \n",
       "50%              9.967760                        0.998650   \n",
       "75%             25.743985                        3.355748   \n",
       "max          10632.723672                    11851.104565   \n",
       "\n",
       "       ratio_to_median_purchase_price  repeat_retailer       used_chip  \\\n",
       "count                  1000000.000000   1000000.000000  1000000.000000   \n",
       "mean                         1.824182         0.881536        0.350399   \n",
       "std                          2.799589         0.323157        0.477095   \n",
       "min                          0.004399         0.000000        0.000000   \n",
       "25%                          0.475673         1.000000        0.000000   \n",
       "50%                          0.997717         1.000000        0.000000   \n",
       "75%                          2.096370         1.000000        1.000000   \n",
       "max                        267.802942         1.000000        1.000000   \n",
       "\n",
       "       used_pin_number    online_order           fraud  \n",
       "count   1000000.000000  1000000.000000  1000000.000000  \n",
       "mean          0.100608        0.650552        0.087403  \n",
       "std           0.300809        0.476796        0.282425  \n",
       "min           0.000000        0.000000        0.000000  \n",
       "25%           0.000000        0.000000        0.000000  \n",
       "50%           0.000000        1.000000        0.000000  \n",
       "75%           0.000000        1.000000        0.000000  \n",
       "max           1.000000        1.000000        1.000000  "
      ]
     },
     "execution_count": 6,
     "metadata": {},
     "output_type": "execute_result"
    }
   ],
   "source": [
    "df.describe()"
   ]
  },
  {
   "cell_type": "markdown",
   "id": "52daefc9",
   "metadata": {},
   "source": [
    "## Pengecekan Data yang duplikat untuk semua kolom"
   ]
  },
  {
   "cell_type": "code",
   "execution_count": 7,
   "id": "d0222891",
   "metadata": {},
   "outputs": [
    {
     "data": {
      "text/plain": [
       "0"
      ]
     },
     "execution_count": 7,
     "metadata": {},
     "output_type": "execute_result"
    }
   ],
   "source": [
    "df.duplicated().sum()"
   ]
  },
  {
   "cell_type": "markdown",
   "id": "0d9048fa",
   "metadata": {},
   "source": [
    "## Mengecek apakah ada atribut yang missing value\n",
    "\n",
    "Proses mengecek data pada setiap atribut yang memiliki missing value kemudian menjumlahkannya"
   ]
  },
  {
   "cell_type": "code",
   "execution_count": 8,
   "id": "8b84a26a",
   "metadata": {
    "scrolled": true
   },
   "outputs": [
    {
     "data": {
      "text/plain": [
       "distance_from_home                0\n",
       "distance_from_last_transaction    0\n",
       "ratio_to_median_purchase_price    0\n",
       "repeat_retailer                   0\n",
       "used_chip                         0\n",
       "used_pin_number                   0\n",
       "online_order                      0\n",
       "fraud                             0\n",
       "dtype: int64"
      ]
     },
     "execution_count": 8,
     "metadata": {},
     "output_type": "execute_result"
    }
   ],
   "source": [
    "df.isnull().sum()"
   ]
  },
  {
   "cell_type": "markdown",
   "id": "60d89e4f",
   "metadata": {},
   "source": [
    "Dari pengecekan diatas tidak terdapat atribut yang memiliki missing value, maka proses pembersihan data selesai"
   ]
  },
  {
   "cell_type": "markdown",
   "id": "b912e13b",
   "metadata": {},
   "source": [
    "setelah dilakukakan filerisasi pada label terdapat  912.597 data yang tidak terkenan penipuan dan 87.403 data yang terkena penipuan.\n",
    "\n",
    "karena datanya tidak seimbang antara yang terkena penipuan dan yang tidak terkenan penipuan maka dilakukan undersampling mengatasi masalah bias yang mungkin timbul akibat perbedaan jumlah sampel dalam setiap kelas. Undersampling melibatkan pengurangan sampel dari kelas mayoritas sehingga jumlah sampel dalam setiap kelas menjadi lebih seimbang. Ini dapat dilakukan dengan cara menghapus sebagian sampel dari kelas mayoritas."
   ]
  },
  {
   "cell_type": "markdown",
   "id": "1e27ab43",
   "metadata": {},
   "source": [
    "## Normalisasi Dataset\n",
    "\n",
    "Dikarenakan tidak terdapt missing value, maka dilanjutkan ke prosessing berikutnya\n"
   ]
  },
  {
   "cell_type": "markdown",
   "id": "ca2ab35a",
   "metadata": {},
   "source": [
    "## Explorasi data Analist\n",
    "### Target : Fraud\n",
    "\n",
    "Sekarang kita akan melihat nilai NO (tidak penipuan) dan YES (penipuan) pada kolom fraud menggunakan BarChart"
   ]
  },
  {
   "cell_type": "code",
   "execution_count": 9,
   "id": "ebc0dfaa",
   "metadata": {},
   "outputs": [
    {
     "name": "stdout",
     "output_type": "stream",
     "text": [
      "0.0    912597\n",
      "1.0     87403\n",
      "Name: fraud, dtype: int64\n"
     ]
    },
    {
     "data": {
      "image/png": "[encoded data removed]",
      "text/plain": [
       "<Figure size 640x480 with 1 Axes>"
      ]
     },
     "metadata": {},
     "output_type": "display_data"
    }
   ],
   "source": [
    "df[\"fraud\"].value_counts().plot(kind=\"bar\")\n",
    "plt.title(\" Perbandingan No dan Yes pada Fraud\")\n",
    "plt.xlabel(\" Indikator 0 dan 1 \")\n",
    "plt.ylabel(\" Jumlah \")\n",
    "print(df[\"fraud\"].value_counts())"
   ]
  },
  {
   "cell_type": "markdown",
   "id": "2583616a",
   "metadata": {},
   "source": [
    "## Keterangan\n",
    "\n",
    "BarChart diatas menunjukan hasil perbandingan nilai No dan Yes pada kolom Fraud\n",
    "\n",
    "## Kesimpulan dari analisis Target RainTomorrow\n",
    "Kesimpulan\n",
    "\n",
    "Hasil dari BarChart diatas menunjukkan, Hasil \"NO\" ada pada angka 912.597 dan \"YES\" ada pada angka 87.403. Dari hasil BarChart diatas menunjukan bahwa jumlah hasil prediksi \"NO\" menghasilkan angka yang sangat tinggi sekali. Hasil ini membuktikan bahwa hasil nilai\"NO\" lebih mendominasi dari pada nilai \"YES\" dan jumlah selisihnya sangat jauh. Hasil Dari \"YES\" dan \"NO\" ini harus dilakukan balancing data. Jikalau tidak dilakukan Balancing data, Model akan cenderung memprediksi kelas mayoritas karena data mayoritas memiliki lebih banyak sampel daripada data minoritas."
   ]
  },
  {
   "cell_type": "markdown",
   "id": "5005e5e8",
   "metadata": {},
   "source": [
    "## PreProcesing Data\n",
    "\n",
    "### Balancing Data\n",
    "Dikarenakan Jumlah pada Target \"NO\" Sangatlah tinggi. Sekarang kita akan lakukan UnderSampling pada data yang ada."
   ]
  },
  {
   "cell_type": "code",
   "execution_count": 10,
   "id": "c1b01704",
   "metadata": {},
   "outputs": [
    {
     "data": {
      "text/plain": [
       "0.0    912597\n",
       "1.0     87403\n",
       "Name: fraud, dtype: int64"
      ]
     },
     "execution_count": 10,
     "metadata": {},
     "output_type": "execute_result"
    }
   ],
   "source": [
    "countRT = df[\"fraud\"].value_counts()\n",
    "countRT"
   ]
  },
  {
   "cell_type": "code",
   "execution_count": 11,
   "id": "e74892db",
   "metadata": {},
   "outputs": [
    {
     "data": {
      "text/plain": [
       "87403"
      ]
     },
     "execution_count": 11,
     "metadata": {},
     "output_type": "execute_result"
    }
   ],
   "source": [
    "n = min(countRT)\n",
    "n"
   ]
  },
  {
   "cell_type": "code",
   "execution_count": 12,
   "id": "762572c9",
   "metadata": {},
   "outputs": [],
   "source": [
    "subset_yes = df[df['fraud'] == 1].sample(n=87403, random_state=42)\n",
    "subset_no = df[df['fraud'] == 0].sample(n=87403, random_state=42)"
   ]
  },
  {
   "cell_type": "code",
   "execution_count": 13,
   "id": "dd9f8d3a",
   "metadata": {},
   "outputs": [],
   "source": [
    "new_df = pd.concat([subset_yes, subset_no])"
   ]
  },
  {
   "cell_type": "code",
   "execution_count": 14,
   "id": "aa586137",
   "metadata": {
    "scrolled": true
   },
   "outputs": [
    {
     "data": {
      "text/html": [
       "<div>\n",
       "<style scoped>\n",
       "    .dataframe tbody tr th:only-of-type {\n",
       "        vertical-align: middle;\n",
       "    }\n",
       "\n",
       "    .dataframe tbody tr th {\n",
       "        vertical-align: top;\n",
       "    }\n",
       "\n",
       "    .dataframe thead th {\n",
       "        text-align: right;\n",
       "    }\n",
       "</style>\n",
       "<table border=\"1\" class=\"dataframe\">\n",
       "  <thead>\n",
       "    <tr style=\"text-align: right;\">\n",
       "      <th></th>\n",
       "      <th>distance_from_home</th>\n",
       "      <th>distance_from_last_transaction</th>\n",
       "      <th>ratio_to_median_purchase_price</th>\n",
       "      <th>repeat_retailer</th>\n",
       "      <th>used_chip</th>\n",
       "      <th>used_pin_number</th>\n",
       "      <th>online_order</th>\n",
       "      <th>fraud</th>\n",
       "    </tr>\n",
       "  </thead>\n",
       "  <tbody>\n",
       "    <tr>\n",
       "      <th>909977</th>\n",
       "      <td>25.920200</td>\n",
       "      <td>10.792762</td>\n",
       "      <td>9.541436</td>\n",
       "      <td>1.0</td>\n",
       "      <td>0.0</td>\n",
       "      <td>0.0</td>\n",
       "      <td>1.0</td>\n",
       "      <td>1.0</td>\n",
       "    </tr>\n",
       "    <tr>\n",
       "      <th>649305</th>\n",
       "      <td>129.610251</td>\n",
       "      <td>1.132247</td>\n",
       "      <td>0.802504</td>\n",
       "      <td>1.0</td>\n",
       "      <td>0.0</td>\n",
       "      <td>0.0</td>\n",
       "      <td>1.0</td>\n",
       "      <td>1.0</td>\n",
       "    </tr>\n",
       "    <tr>\n",
       "      <th>364031</th>\n",
       "      <td>117.420499</td>\n",
       "      <td>4.914930</td>\n",
       "      <td>0.321369</td>\n",
       "      <td>1.0</td>\n",
       "      <td>0.0</td>\n",
       "      <td>0.0</td>\n",
       "      <td>1.0</td>\n",
       "      <td>1.0</td>\n",
       "    </tr>\n",
       "    <tr>\n",
       "      <th>161491</th>\n",
       "      <td>176.667414</td>\n",
       "      <td>1.229757</td>\n",
       "      <td>3.845739</td>\n",
       "      <td>1.0</td>\n",
       "      <td>0.0</td>\n",
       "      <td>0.0</td>\n",
       "      <td>1.0</td>\n",
       "      <td>1.0</td>\n",
       "    </tr>\n",
       "    <tr>\n",
       "      <th>65707</th>\n",
       "      <td>26.138134</td>\n",
       "      <td>0.875708</td>\n",
       "      <td>9.752672</td>\n",
       "      <td>1.0</td>\n",
       "      <td>0.0</td>\n",
       "      <td>0.0</td>\n",
       "      <td>1.0</td>\n",
       "      <td>1.0</td>\n",
       "    </tr>\n",
       "  </tbody>\n",
       "</table>\n",
       "</div>"
      ],
      "text/plain": [
       "        distance_from_home  distance_from_last_transaction  \\\n",
       "909977           25.920200                       10.792762   \n",
       "649305          129.610251                        1.132247   \n",
       "364031          117.420499                        4.914930   \n",
       "161491          176.667414                        1.229757   \n",
       "65707            26.138134                        0.875708   \n",
       "\n",
       "        ratio_to_median_purchase_price  repeat_retailer  used_chip  \\\n",
       "909977                        9.541436              1.0        0.0   \n",
       "649305                        0.802504              1.0        0.0   \n",
       "364031                        0.321369              1.0        0.0   \n",
       "161491                        3.845739              1.0        0.0   \n",
       "65707                         9.752672              1.0        0.0   \n",
       "\n",
       "        used_pin_number  online_order  fraud  \n",
       "909977              0.0           1.0    1.0  \n",
       "649305              0.0           1.0    1.0  \n",
       "364031              0.0           1.0    1.0  \n",
       "161491              0.0           1.0    1.0  \n",
       "65707               0.0           1.0    1.0  "
      ]
     },
     "execution_count": 14,
     "metadata": {},
     "output_type": "execute_result"
    }
   ],
   "source": [
    "new_df.head()"
   ]
  },
  {
   "cell_type": "code",
   "execution_count": 15,
   "id": "dc2f693c",
   "metadata": {},
   "outputs": [
    {
     "data": {
      "text/plain": [
       "1.0    87403\n",
       "0.0    87403\n",
       "Name: fraud, dtype: int64"
      ]
     },
     "execution_count": 15,
     "metadata": {},
     "output_type": "execute_result"
    }
   ],
   "source": [
    "new_df[\"fraud\"].value_counts()"
   ]
  },
  {
   "cell_type": "code",
   "execution_count": 16,
   "id": "ce8a451b",
   "metadata": {},
   "outputs": [
    {
     "name": "stdout",
     "output_type": "stream",
     "text": [
      "1.0    87403\n",
      "0.0    87403\n",
      "Name: fraud, dtype: int64\n"
     ]
    },
    {
     "data": {
      "image/png": "[encoded data removed]",
      "text/plain": [
       "<Figure size 640x480 with 1 Axes>"
      ]
     },
     "metadata": {},
     "output_type": "display_data"
    }
   ],
   "source": [
    "new_df[\"fraud\"].value_counts().plot(kind=\"bar\")\n",
    "plt.title(\" Perbandingan No dan Yes pada Fraud\")\n",
    "plt.xlabel(\" Indikator 0 dan 1 \")\n",
    "plt.ylabel(\" Jumlah \")\n",
    "print(new_df[\"fraud\"].value_counts())"
   ]
  },
  {
   "cell_type": "code",
   "execution_count": 17,
   "id": "1d3f50a2",
   "metadata": {},
   "outputs": [
    {
     "data": {
      "text/plain": [
       "(174806, 8)"
      ]
     },
     "execution_count": 17,
     "metadata": {},
     "output_type": "execute_result"
    }
   ],
   "source": [
    "new_df.shape"
   ]
  },
  {
   "cell_type": "markdown",
   "id": "a3f32a1f",
   "metadata": {},
   "source": [
    "Proses Undersampling sudah selesai, jumlah data menjadi balance."
   ]
  },
  {
   "cell_type": "markdown",
   "id": "e292abc3",
   "metadata": {},
   "source": [
    "## Pendefinisian Model"
   ]
  },
  {
   "cell_type": "code",
   "execution_count": 18,
   "id": "74304843",
   "metadata": {},
   "outputs": [],
   "source": [
    "mode_NB = GaussianNB()\n",
    "model_KNN = KNeighborsClassifier(n_neighbors=3)\n",
    "model_logreg = LogisticRegression()"
   ]
  },
  {
   "cell_type": "markdown",
   "id": "71063a1f",
   "metadata": {},
   "source": [
    "## Memisahkan fitur dan label\n",
    "\n",
    "Dalam proses pemisahan fitur dan label tujuannya adalah untuk mengidentifikasi atribut-atribut yang relevan dan signifikan dalam mempengaruhi nilai target."
   ]
  },
  {
   "cell_type": "code",
   "execution_count": 19,
   "id": "d605a438",
   "metadata": {},
   "outputs": [],
   "source": [
    "X = new_df.drop(\"fraud\", axis=1)\n",
    "y = new_df[\"fraud\"]"
   ]
  },
  {
   "cell_type": "markdown",
   "id": "45b455ad",
   "metadata": {},
   "source": [
    "## Pelatihan Model"
   ]
  },
  {
   "cell_type": "markdown",
   "id": "2635ece5",
   "metadata": {},
   "source": [
    "## Mengklasifikasi menggunakan dengan \"K-Nearest Neighbors\n",
    "\n",
    "Experimen klasifikasi menggunakan algoritma Naive Bayes Gaussian. Experimen membantu dalam melatih model, melakukan prediksi, dan mengevaluasi performa model dengan menggunakan metrik evaluasi seperti akurasi, presisi, recall, dan f1-score. Pada Klasifikasi ini saya lakukan 3 kali percobaan dengan menggunakan data testing (data uji) sebesar 20%, 30%, dan 40%\n"
   ]
  },
  {
   "cell_type": "code",
   "execution_count": 20,
   "id": "44e59759",
   "metadata": {
    "scrolled": true
   },
   "outputs": [
    {
     "name": "stderr",
     "output_type": "stream",
     "text": [
      "C:\\ProgramData\\Anaconda3\\lib\\site-packages\\sklearn\\neighbors\\_classification.py:228: FutureWarning: Unlike other reduction functions (e.g. `skew`, `kurtosis`), the default behavior of `mode` typically preserves the axis it acts along. In SciPy 1.11.0, this behavior will change: the default value of `keepdims` will become False, the `axis` over which the statistic is taken will be eliminated, and the value None will no longer be accepted. Set `keepdims` to True or False to avoid this warning.\n",
      "  mode, _ = stats.mode(_y[neigh_ind, k], axis=1)\n"
     ]
    },
    {
     "name": "stdout",
     "output_type": "stream",
     "text": [
      "Accuracy: 0.9700818031005092\n",
      "Classification Report:\n",
      "               precision    recall  f1-score   support\n",
      "\n",
      "         0.0       1.00      0.94      0.97     17488\n",
      "         1.0       0.95      1.00      0.97     17474\n",
      "\n",
      "    accuracy                           0.97     34962\n",
      "   macro avg       0.97      0.97      0.97     34962\n",
      "weighted avg       0.97      0.97      0.97     34962\n",
      "\n",
      "Confusion Matrix:\n",
      " [[16498   990]\n",
      " [   56 17418]]\n"
     ]
    },
    {
     "data": {
      "image/png": "[encoded data removed]",
      "text/plain": [
       "<Figure size 800x600 with 2 Axes>"
      ]
     },
     "metadata": {},
     "output_type": "display_data"
    }
   ],
   "source": [
    "# Membagi dataset menjadi data latih dan data uji\n",
    "X_train, X_test, y_train, y_test = train_test_split(X, y, test_size=0.2, random_state=42)\n",
    "\n",
    "# Membuat objek klasifikasi K-Nearest Neighbors\n",
    "model_KNN = KNeighborsClassifier(n_neighbors=3)\n",
    "\n",
    "# Melatih model dengan data latih\n",
    "model_KNN.fit(X_train, y_train)\n",
    "\n",
    "# Memprediksi label untuk data uji\n",
    "y_pred = model_KNN.predict(X_test)\n",
    "\n",
    "# Evaluasi model\n",
    "accuracy = accuracy_score(y_test, y_pred)\n",
    "report = classification_report(y_test, y_pred)\n",
    "confusion_mat = confusion_matrix(y_test, y_pred)\n",
    "\n",
    "print(\"Accuracy:\", accuracy)\n",
    "print(\"Classification Report:\\n\", report)\n",
    "print(\"Confusion Matrix:\\n\", confusion_mat)\n",
    "\n",
    "# Membuat heatmap confusion matrix\n",
    "plt.figure(figsize=(8, 6))\n",
    "sns.heatmap(confusion_mat, annot=True, fmt=\"d\", cmap=\"Blues\")\n",
    "plt.title(\"Confusion Matrix\")\n",
    "plt.xlabel(\"Predicted Label\")\n",
    "plt.ylabel(\"True Label\")\n",
    "plt.show()"
   ]
  },
  {
   "cell_type": "code",
   "execution_count": 21,
   "id": "bf0b7722",
   "metadata": {},
   "outputs": [],
   "source": [
    "import pickle\n",
    "pickle.dump(model_KNN , open('model.pkl', 'wb'))"
   ]
  },
  {
   "cell_type": "code",
   "execution_count": null,
   "id": "2dccad56",
   "metadata": {},
   "outputs": [],
   "source": []
  }
 ],
 "metadata": {
  "kernelspec": {
   "display_name": "Python 3 (ipykernel)",
   "language": "python",
   "name": "python3"
  },
  "language_info": {
   "codemirror_mode": {
    "name": "ipython",
    "version": 3
   },
   "file_extension": ".py",
   "mimetype": "text/x-python",
   "name": "python",
   "nbconvert_exporter": "python",
   "pygments_lexer": "ipython3",
   "version": "3.9.13"
  },
  "varInspector": {
   "cols": {
    "lenName": 16,
    "lenType": 16,
    "lenVar": 40
   },
   "kernels_config": {
    "python": {
     "delete_cmd_postfix": "",
     "delete_cmd_prefix": "del ",
     "library": "var_list.py",
     "varRefreshCmd": "print(var_dic_list())"
    },
    "r": {
     "delete_cmd_postfix": ") ",
     "delete_cmd_prefix": "rm(",
     "library": "var_list.r",
     "varRefreshCmd": "cat(var_dic_list()) "
    }
   },
   "types_to_exclude": [
    "module",
    "function",
    "builtin_function_or_method",
    "instance",
    "_Feature"
   ],
   "window_display": false
  }
 },
 "nbformat": 4,
 "nbformat_minor": 5
}
